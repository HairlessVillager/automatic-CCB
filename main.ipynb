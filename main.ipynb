{
 "cells": [
  {
   "cell_type": "code",
   "execution_count": 1,
   "id": "03eb3570-d791-4ea4-bae3-b8677b146461",
   "metadata": {},
   "outputs": [],
   "source": [
    "from transformers import AutoModelForCausalLM, AutoTokenizer, PreTrainedTokenizer\n"
   ]
  },
  {
   "cell_type": "code",
   "execution_count": 2,
   "id": "61c2ca02",
   "metadata": {},
   "outputs": [
    {
     "name": "stderr",
     "output_type": "stream",
     "text": [
      "Sliding Window Attention is enabled but not implemented for `sdpa`; unexpected results may be encountered.\n"
     ]
    },
    {
     "data": {
      "application/vnd.jupyter.widget-view+json": {
       "model_id": "93ab4b62f955465784908d4563d91629",
       "version_major": 2,
       "version_minor": 0
      },
      "text/plain": [
       "Loading checkpoint shards:   0%|          | 0/4 [00:00<?, ?it/s]"
      ]
     },
     "metadata": {},
     "output_type": "display_data"
    }
   ],
   "source": [
    "model_name = \"Qwen/Qwen2.5-7B-Instruct\"\n",
    "\n",
    "model = AutoModelForCausalLM.from_pretrained(\n",
    "    model_name, torch_dtype=\"auto\", device_map=\"cuda\"\n",
    ").cuda()\n",
    "tokenizer = AutoTokenizer.from_pretrained(model_name)"
   ]
  },
  {
   "cell_type": "code",
   "execution_count": 3,
   "id": "e05f1fe8",
   "metadata": {},
   "outputs": [],
   "source": [
    "import re\n",
    "\n",
    "class CCBLogitsProcessor:\n",
    "    \n",
    "    def __init__(self, tokenizer: PreTrainedTokenizer, input_ids_len: int):\n",
    "        self.tokenizer = tokenizer\n",
    "        self.input_ids_len = input_ids_len\n",
    "\n",
    "    def __call__(self, input_ids, scores):\n",
    "        tokenizer = self.tokenizer\n",
    "        truncated = input_ids[0, self.input_ids_len:]\n",
    "        text = tokenizer.decode(truncated)\n",
    "        for token_id in range(tokenizer.vocab_size):\n",
    "            token = tokenizer.convert_ids_to_tokens(token_id)\n",
    "            if not self.is_ccb(text + token):\n",
    "                scores[:, token_id] = -float(\"inf\")\n",
    "        return scores\n",
    "\n",
    "    def is_ccb(self, text: str) -> bool:\n",
    "        words = text.split()\n",
    "        regex_prefixs = [r\"[Cc].*\", r\"[Cc].*\", r\"[Bb].*\"]\n",
    "        for word, prefix in zip(words, regex_prefixs, strict=False):\n",
    "            if not re.match(prefix, word):\n",
    "                return False\n",
    "        return True\n",
    "\n",
    "def test_ccb(f):\n",
    "    assert f(\"\")\n",
    "    assert f(\"ca\")\n",
    "    assert f(\"cao \")\n",
    "    assert f(\"cao ca\")\n",
    "    assert f(\"cao cao\")\n",
    "    assert f(\"cao cao b\")\n",
    "    assert f(\"cao cao bi\")\n",
    "    assert f(\"cao cao bii \")\n",
    "\n",
    "    assert not f(\"b\")\n",
    "    assert not f(\"ba\")\n",
    "    assert not f(\"cao b\")\n",
    "    assert not f(\"cao bca\")\n",
    "    assert not f(\"cao cao a\")\n",
    "    assert not f(\"cao cao c\")\n",
    "    assert not f(\"cao caob i\")\n",
    "\n",
    "ccb = CCBLogitsProcessor(tokenizer, [])\n",
    "test_ccb(ccb.is_ccb)\n"
   ]
  },
  {
   "cell_type": "code",
   "execution_count": 4,
   "id": "fa55b0a8-2e39-473e-8a57-cfb7e8e4b223",
   "metadata": {},
   "outputs": [],
   "source": [
    "system_prompt = \"\"\"You are a linguistic alchemist specializing in acronym humor. Transform user's story into a 3-word CCB format phrase with:\n",
    "\n",
    "C = First word starting with C\n",
    "C = Second word starting with C\n",
    "B = Third word starting with B\n",
    "\n",
    "## Processing Framework\n",
    "\n",
    "1. Essence Extraction\n",
    "\n",
    "Identify:\n",
    "\n",
    "Core conflict (e.g., \"tech failures\" → Crash)\n",
    "Dominant character trait (e.g., stubbornness → Cling)\n",
    "Key object (e.g., outdated software → Binary)\n",
    "\n",
    "2. Wordplay Engineering\n",
    "\n",
    "Apply:\n",
    "\n",
    "Alliteration amplification (e.g., Crypto/Chaos)\n",
    "Homophonic hacking (e.g., Cue→Queue)\n",
    "Industry jargon warping (e.g., \"blockchain\" → Chain→Bait)\n",
    "Verb-noun inversion (e.g., Click→Bait → Click-Bait-Buster)\n",
    "\n",
    "3. CCB Forging\n",
    "\n",
    "Structure rules:\n",
    "\n",
    "First C-word: Action/Adjective (e.g., Clumsy, Cyber)\n",
    "Second C-word: Noun/Verb (e.g., Coders, Crashing)\n",
    "B-word: Impact word (e.g., Breakdown, Backfire)\n",
    "\n",
    "## Humor Requirements\n",
    "\n",
    "- Dark comedy edge\n",
    "- Tech/dank meme reference\n",
    "- Unexpected oxymoron\n",
    "\n",
    "## Examples\n",
    "\n",
    "Input: \"A startup's server keeps crashing\"\n",
    "\n",
    "Output #1: Crypto Crash Breakdown\n",
    "\n",
    "Output #2: Cloudy Code Backfire\n",
    "\n",
    "Output #3: Cache Calamity Burnout\n",
    "\n",
    "Input: \"Gym influencer loses sponsorship\"\n",
    "\n",
    "Output #1: Carb Cult Bankruptcy\n",
    "\n",
    "Output #2: Curves Crash Backlash\n",
    "\n",
    "Output #3: Clout Chaser Bust\n",
    "\n",
    "\"\"\"\n",
    "\n",
    "user_prompt = \"\"\"The American government carried out a planned genocide of Native Americans, including hunting their main food source—the bison, offering bounties for Indian scalps to encourage whites to massacre Indians, and eventually establishing a military with the primary mission of annihilating Native Americans.\"\"\"\n",
    "\n",
    "messages = [\n",
    "    {\"role\": \"system\", \"content\": system_prompt},\n",
    "    {\"role\": \"user\", \"content\": user_prompt},\n",
    "]\n",
    "\n",
    "text = tokenizer.apply_chat_template(\n",
    "    messages, tokenize=False, add_generation_prompt=True\n",
    ")\n",
    "\n",
    "model_inputs = tokenizer([text], return_tensors=\"pt\").to(model.device)\n"
   ]
  },
  {
   "cell_type": "code",
   "execution_count": 5,
   "id": "71019347",
   "metadata": {},
   "outputs": [],
   "source": [
    "ccb = CCBLogitsProcessor(tokenizer, len(model_inputs[\"input_ids\"][0]))\n",
    "generated_ids = model.generate(**model_inputs, max_new_tokens=512, logits_processor=[ccb])\n",
    "generated_ids = [\n",
    "    output_ids[len(input_ids) :]\n",
    "    for input_ids, output_ids in zip(model_inputs.input_ids, generated_ids)\n",
    "]"
   ]
  },
  {
   "cell_type": "code",
   "execution_count": 6,
   "id": "a2554f03",
   "metadata": {},
   "outputs": [
    {
     "name": "stdout",
     "output_type": "stream",
     "text": [
      "Captive Capture Bleedout\n"
     ]
    }
   ],
   "source": [
    "response = tokenizer.batch_decode(generated_ids, skip_special_tokens=True)[0]\n",
    "print(response)\n"
   ]
  },
  {
   "cell_type": "code",
   "execution_count": null,
   "id": "dcae832a-7463-4743-875c-fad4b2b09ab4",
   "metadata": {},
   "outputs": [],
   "source": []
  }
 ],
 "metadata": {
  "kernelspec": {
   "display_name": "Python 3 (ipykernel)",
   "language": "python",
   "name": "python3"
  },
  "language_info": {
   "codemirror_mode": {
    "name": "ipython",
    "version": 3
   },
   "file_extension": ".py",
   "mimetype": "text/x-python",
   "name": "python",
   "nbconvert_exporter": "python",
   "pygments_lexer": "ipython3",
   "version": "3.12.9"
  }
 },
 "nbformat": 4,
 "nbformat_minor": 5
}
